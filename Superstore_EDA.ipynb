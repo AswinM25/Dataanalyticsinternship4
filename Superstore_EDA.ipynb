{
 "cells": [
  {
   "cell_type": "markdown",
   "id": "eb376230",
   "metadata": {},
   "source": [
    "# 🛒 Superstore Dataset - Exploratory Data Analysis (EDA)\n",
    "**Objective:** Extract meaningful insights through visual and statistical exploration.\n",
    "**Tools:** Python, Pandas, Matplotlib, Seaborn"
   ]
  },
  {
   "cell_type": "code",
   "execution_count": null,
   "id": "84cc6ad3",
   "metadata": {},
   "outputs": [],
   "source": [
    "import pandas as pd\n",
    "import matplotlib.pyplot as plt\n",
    "import seaborn as sns\n",
    "sns.set(style='whitegrid')\n",
    "import warnings\n",
    "warnings.filterwarnings('ignore')"
   ]
  },
  {
   "cell_type": "code",
   "execution_count": null,
   "id": "2f7c575f",
   "metadata": {},
   "outputs": [],
   "source": [
    "# Load the dataset\n",
    "df = pd.read_csv('superstore.csv.csv')\n",
    "df.head()"
   ]
  },
  {
   "cell_type": "markdown",
   "id": "aa4c39bd",
   "metadata": {},
   "source": [
    "## 🔍 Initial Exploration"
   ]
  },
  {
   "cell_type": "code",
   "execution_count": null,
   "id": "3b6ed1c7",
   "metadata": {},
   "outputs": [],
   "source": [
    "df.info()\n",
    "df.describe()\n",
    "df.isnull().sum()\n",
    "df.duplicated().sum()"
   ]
  },
  {
   "cell_type": "markdown",
   "id": "cd4a455d",
   "metadata": {},
   "source": [
    "## 🧹 Data Cleaning"
   ]
  },
  {
   "cell_type": "code",
   "execution_count": null,
   "id": "2a801d1c",
   "metadata": {},
   "outputs": [],
   "source": [
    "df['Order Date'] = pd.to_datetime(df['Order Date'])\n",
    "df['Ship Date'] = pd.to_datetime(df['Ship Date'])\n",
    "df.drop(columns=['Row ID'], inplace=True)\n",
    "df.head()"
   ]
  },
  {
   "cell_type": "markdown",
   "id": "4dec1638",
   "metadata": {},
   "source": [
    "## 📊 Univariate Analysis (Histograms & Boxplots)"
   ]
  },
  {
   "cell_type": "code",
   "execution_count": null,
   "id": "1b9be610",
   "metadata": {},
   "outputs": [],
   "source": [
    "numerics = ['Sales', 'Profit', 'Quantity', 'Discount']\n",
    "for col in numerics:\n",
    "    plt.figure(figsize=(12,4))\n",
    "    plt.subplot(1,2,1)\n",
    "    sns.histplot(df[col], kde=True)\n",
    "    plt.title(f'Histogram of {col}')\n",
    "\n",
    "    plt.subplot(1,2,2)\n",
    "    sns.boxplot(x=df[col])\n",
    "    plt.title(f'Boxplot of {col}')\n",
    "    plt.show()"
   ]
  },
  {
   "cell_type": "markdown",
   "id": "bc542eec",
   "metadata": {},
   "source": [
    "## 📦 Categorical Analysis"
   ]
  },
  {
   "cell_type": "code",
   "execution_count": null,
   "id": "ab988155",
   "metadata": {},
   "outputs": [],
   "source": [
    "categorical = ['Segment', 'Region', 'Category', 'Sub-Category', 'Ship Mode']\n",
    "for col in categorical:\n",
    "    print(df[col].value_counts())\n",
    "    sns.countplot(y=df[col])\n",
    "    plt.title(f'Count of {col}')\n",
    "    plt.show()"
   ]
  },
  {
   "cell_type": "markdown",
   "id": "d0d403d8",
   "metadata": {},
   "source": [
    "## 🔗 Bivariate Analysis"
   ]
  },
  {
   "cell_type": "code",
   "execution_count": null,
   "id": "914c9d27",
   "metadata": {},
   "outputs": [],
   "source": [
    "sns.pairplot(df[numerics])\n",
    "plt.show()\n",
    "sns.heatmap(df[numerics].corr(), annot=True, cmap='coolwarm')\n",
    "plt.title('Correlation Heatmap')\n",
    "plt.show()"
   ]
  },
  {
   "cell_type": "code",
   "execution_count": null,
   "id": "66da4d90",
   "metadata": {},
   "outputs": [],
   "source": [
    "sns.scatterplot(x='Discount', y='Profit', data=df)\n",
    "plt.title('Discount vs Profit')\n",
    "plt.show()"
   ]
  },
  {
   "cell_type": "code",
   "execution_count": null,
   "id": "23c576e9",
   "metadata": {},
   "outputs": [],
   "source": [
    "df.groupby('Category')[['Sales', 'Profit']].mean().plot(kind='bar')\n",
    "plt.title('Avg Sales and Profit per Category')\n",
    "plt.show()"
   ]
  },
  {
   "cell_type": "markdown",
   "id": "10b02e3a",
   "metadata": {},
   "source": [
    "## 🕒 Time Series Analysis"
   ]
  },
  {
   "cell_type": "code",
   "execution_count": null,
   "id": "91ffb777",
   "metadata": {},
   "outputs": [],
   "source": [
    "df['Month'] = df['Order Date'].dt.to_period('M')\n",
    "monthly_sales = df.groupby('Month')['Sales'].sum()\n",
    "monthly_sales.plot(kind='line', figsize=(12,5))\n",
    "plt.title('Monthly Sales Trend')\n",
    "plt.xlabel('Month')\n",
    "plt.ylabel('Sales')\n",
    "plt.show()"
   ]
  },
  {
   "cell_type": "markdown",
   "id": "42d5f8ab",
   "metadata": {},
   "source": [
    "## 🧾 Summary of Insights\n",
    "- Most profitable categories and regions identified\n",
    "- High discounts negatively affect profit\n",
    "- Sales trends show seasonal patterns\n",
    "- Outliers are present in Sales and Profit distributions\n",
    "- Category-wise breakdown helps target strategies"
   ]
  }
 ],
 "metadata": {},
 "nbformat": 4,
 "nbformat_minor": 5
}
